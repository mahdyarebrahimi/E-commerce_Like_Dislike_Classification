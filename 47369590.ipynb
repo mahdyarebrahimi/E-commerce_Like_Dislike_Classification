{
 "cells": [
  {
   "cell_type": "markdown",
   "id": "Z88FfJc9lA_T",
   "metadata": {
    "id": "Z88FfJc9lA_T"
   },
   "source": [
    "## Analysis of an E-commerce Dataset Part 3 (s2 2023)"
   ]
  },
  {
   "cell_type": "markdown",
   "id": "hoq0NwA9lA_V",
   "metadata": {
    "id": "hoq0NwA9lA_V"
   },
   "source": [
    "\n",
    "In this Portfolio task, you will continue working with the dataset you have used in portfolio 2. But the difference is that the ratings have been converted to like (with score 1) and dislike (with score 0). Your task is to train classification models such as KNN to predict whether a user like or dislike an item.  \n",
    "\n",
    "\n",
    "The header of the csv file is shown below. \n",
    "\n",
    "| userId | timestamp | review | item | helpfulness | gender | category | item_id | item_price | user_city | rating |\n",
    "    | ---- | ---- | ---- | ---- | ---- | ---- | ---- | ---- | ---- | ---- | ---- |\n",
    "    \n",
    "Your high level goal in this notebook is to try to build and evaluate predictive models for 'rating' from other available features - predict the value of the like (corresponding to rating 1) and dislike (corresponding to rating 0) in the data from some of the other fields. More specifically, you need to complete the following major steps: \n",
    "- 1) Explore the data. Clean the data if necessary. For example, remove abnormal instanaces and replace missing values.\n",
    "- 2) Convert object features into digit features by using an encoder\n",
    "- 3) Study the correlation between these features. \n",
    "- 4) Split the dataset and train a logistic regression model to predict 'rating' based on other features. Evaluate the accuracy of your model.\n",
    "- 5) Split the dataset and train a KNN model to predict 'rating' based on other features. You can set K with an ad-hoc manner in this step. Evaluate the accuracy of your model.\n",
    "- 6) Tune the hyper-parameter K in KNN to see how it influences the prediction performance\n",
    "\n",
    "Note 1: We did not provide any description of each step in the notebook. You should learn how to properly comment your notebook by yourself to make your notebook file readable. \n",
    "\n",
    "Note 2: you are not being evaluated on the ___accuracy___ of the model but on the ___process___ that you use to generate it. Please use both ___Logistic Regression model___ and ___KNN model___ for solving this classification problem. Accordingly, discuss the performance of these two methods.\n",
    "    "
   ]
  },
  {
   "cell_type": "markdown",
   "id": "28605d53",
   "metadata": {},
   "source": [
    "# Task 1"
   ]
  },
  {
   "cell_type": "code",
   "execution_count": 82,
   "id": "1dc8a19a",
   "metadata": {},
   "outputs": [],
   "source": [
    "import pandas as pd\n",
    "import numpy as np\n",
    "from sklearn.model_selection import train_test_split\n",
    "from sklearn.linear_model import LogisticRegression\n",
    "from sklearn.metrics import accuracy_score\n",
    "from sklearn.neighbors import KNeighborsClassifier\n",
    "from sklearn.model_selection import GridSearchCV\n",
    "import seaborn as sns\n",
    "from sklearn.preprocessing import OrdinalEncoder\n",
    "import matplotlib.pyplot as plt\n",
    "%matplotlib inline"
   ]
  },
  {
   "cell_type": "markdown",
   "id": "1067dc29",
   "metadata": {},
   "source": [
    "# Exploring the Data"
   ]
  },
  {
   "cell_type": "code",
   "execution_count": 83,
   "id": "e2faf83a",
   "metadata": {},
   "outputs": [],
   "source": [
    "df = pd.read_csv('files/portfolio_3.csv')"
   ]
  },
  {
   "cell_type": "code",
   "execution_count": 84,
   "id": "71c79a45",
   "metadata": {},
   "outputs": [
    {
     "data": {
      "text/html": [
       "<div>\n",
       "<style scoped>\n",
       "    .dataframe tbody tr th:only-of-type {\n",
       "        vertical-align: middle;\n",
       "    }\n",
       "\n",
       "    .dataframe tbody tr th {\n",
       "        vertical-align: top;\n",
       "    }\n",
       "\n",
       "    .dataframe thead th {\n",
       "        text-align: right;\n",
       "    }\n",
       "</style>\n",
       "<table border=\"1\" class=\"dataframe\">\n",
       "  <thead>\n",
       "    <tr style=\"text-align: right;\">\n",
       "      <th></th>\n",
       "      <th>userId</th>\n",
       "      <th>timestamp</th>\n",
       "      <th>review</th>\n",
       "      <th>item</th>\n",
       "      <th>helpfulness</th>\n",
       "      <th>gender</th>\n",
       "      <th>category</th>\n",
       "      <th>item_id</th>\n",
       "      <th>item_price</th>\n",
       "      <th>user_city</th>\n",
       "      <th>rating</th>\n",
       "    </tr>\n",
       "  </thead>\n",
       "  <tbody>\n",
       "    <tr>\n",
       "      <th>0</th>\n",
       "      <td>4081</td>\n",
       "      <td>71900</td>\n",
       "      <td>Not always McCrap</td>\n",
       "      <td>McDonald's</td>\n",
       "      <td>3</td>\n",
       "      <td>M</td>\n",
       "      <td>Restaurants &amp; Gourmet</td>\n",
       "      <td>41</td>\n",
       "      <td>30.74</td>\n",
       "      <td>4</td>\n",
       "      <td>1</td>\n",
       "    </tr>\n",
       "    <tr>\n",
       "      <th>1</th>\n",
       "      <td>4081</td>\n",
       "      <td>72000</td>\n",
       "      <td>I dropped the chalupa even before he told me to</td>\n",
       "      <td>Taco Bell</td>\n",
       "      <td>4</td>\n",
       "      <td>M</td>\n",
       "      <td>Restaurants &amp; Gourmet</td>\n",
       "      <td>74</td>\n",
       "      <td>108.30</td>\n",
       "      <td>4</td>\n",
       "      <td>0</td>\n",
       "    </tr>\n",
       "    <tr>\n",
       "      <th>2</th>\n",
       "      <td>4081</td>\n",
       "      <td>72000</td>\n",
       "      <td>The Wonderful World of Wendy</td>\n",
       "      <td>Wendy's</td>\n",
       "      <td>4</td>\n",
       "      <td>M</td>\n",
       "      <td>Restaurants &amp; Gourmet</td>\n",
       "      <td>84</td>\n",
       "      <td>69.00</td>\n",
       "      <td>4</td>\n",
       "      <td>1</td>\n",
       "    </tr>\n",
       "    <tr>\n",
       "      <th>3</th>\n",
       "      <td>4081</td>\n",
       "      <td>100399</td>\n",
       "      <td>They actually did it</td>\n",
       "      <td>South Park: Bigger, Longer &amp; Uncut</td>\n",
       "      <td>3</td>\n",
       "      <td>M</td>\n",
       "      <td>Movies</td>\n",
       "      <td>68</td>\n",
       "      <td>143.11</td>\n",
       "      <td>4</td>\n",
       "      <td>1</td>\n",
       "    </tr>\n",
       "    <tr>\n",
       "      <th>4</th>\n",
       "      <td>4081</td>\n",
       "      <td>100399</td>\n",
       "      <td>Hey! Gimme some pie!</td>\n",
       "      <td>American Pie</td>\n",
       "      <td>3</td>\n",
       "      <td>M</td>\n",
       "      <td>Movies</td>\n",
       "      <td>6</td>\n",
       "      <td>117.89</td>\n",
       "      <td>4</td>\n",
       "      <td>0</td>\n",
       "    </tr>\n",
       "  </tbody>\n",
       "</table>\n",
       "</div>"
      ],
      "text/plain": [
       "   userId  timestamp                                           review  \\\n",
       "0    4081      71900                                Not always McCrap   \n",
       "1    4081      72000  I dropped the chalupa even before he told me to   \n",
       "2    4081      72000                     The Wonderful World of Wendy   \n",
       "3    4081     100399                             They actually did it   \n",
       "4    4081     100399                             Hey! Gimme some pie!   \n",
       "\n",
       "                                 item  helpfulness gender  \\\n",
       "0                          McDonald's            3      M   \n",
       "1                           Taco Bell            4      M   \n",
       "2                             Wendy's            4      M   \n",
       "3  South Park: Bigger, Longer & Uncut            3      M   \n",
       "4                        American Pie            3      M   \n",
       "\n",
       "                category  item_id  item_price  user_city  rating  \n",
       "0  Restaurants & Gourmet       41       30.74          4       1  \n",
       "1  Restaurants & Gourmet       74      108.30          4       0  \n",
       "2  Restaurants & Gourmet       84       69.00          4       1  \n",
       "3                 Movies       68      143.11          4       1  \n",
       "4                 Movies        6      117.89          4       0  "
      ]
     },
     "execution_count": 84,
     "metadata": {},
     "output_type": "execute_result"
    }
   ],
   "source": [
    "df.head()"
   ]
  },
  {
   "cell_type": "code",
   "execution_count": 85,
   "id": "cdae0e2d",
   "metadata": {},
   "outputs": [
    {
     "name": "stdout",
     "output_type": "stream",
     "text": [
      "<class 'pandas.core.frame.DataFrame'>\n",
      "RangeIndex: 2685 entries, 0 to 2684\n",
      "Data columns (total 11 columns):\n",
      " #   Column       Non-Null Count  Dtype  \n",
      "---  ------       --------------  -----  \n",
      " 0   userId       2685 non-null   int64  \n",
      " 1   timestamp    2685 non-null   int64  \n",
      " 2   review       2685 non-null   object \n",
      " 3   item         2685 non-null   object \n",
      " 4   helpfulness  2685 non-null   int64  \n",
      " 5   gender       2685 non-null   object \n",
      " 6   category     2685 non-null   object \n",
      " 7   item_id      2685 non-null   int64  \n",
      " 8   item_price   2685 non-null   float64\n",
      " 9   user_city    2685 non-null   int64  \n",
      " 10  rating       2685 non-null   int64  \n",
      "dtypes: float64(1), int64(6), object(4)\n",
      "memory usage: 230.9+ KB\n"
     ]
    }
   ],
   "source": [
    "df.info()"
   ]
  },
  {
   "cell_type": "markdown",
   "id": "e8c8fd74",
   "metadata": {},
   "source": [
    "there is no null values, it means there is no missing values that we need to replace."
   ]
  },
  {
   "cell_type": "code",
   "execution_count": 86,
   "id": "16229da0",
   "metadata": {},
   "outputs": [
    {
     "data": {
      "text/html": [
       "<div>\n",
       "<style scoped>\n",
       "    .dataframe tbody tr th:only-of-type {\n",
       "        vertical-align: middle;\n",
       "    }\n",
       "\n",
       "    .dataframe tbody tr th {\n",
       "        vertical-align: top;\n",
       "    }\n",
       "\n",
       "    .dataframe thead th {\n",
       "        text-align: right;\n",
       "    }\n",
       "</style>\n",
       "<table border=\"1\" class=\"dataframe\">\n",
       "  <thead>\n",
       "    <tr style=\"text-align: right;\">\n",
       "      <th></th>\n",
       "      <th>userId</th>\n",
       "      <th>timestamp</th>\n",
       "      <th>helpfulness</th>\n",
       "      <th>item_id</th>\n",
       "      <th>item_price</th>\n",
       "      <th>user_city</th>\n",
       "      <th>rating</th>\n",
       "    </tr>\n",
       "  </thead>\n",
       "  <tbody>\n",
       "    <tr>\n",
       "      <th>count</th>\n",
       "      <td>2685.000000</td>\n",
       "      <td>2685.000000</td>\n",
       "      <td>2685.000000</td>\n",
       "      <td>2685.000000</td>\n",
       "      <td>2685.000000</td>\n",
       "      <td>2685.000000</td>\n",
       "      <td>2685.000000</td>\n",
       "    </tr>\n",
       "    <tr>\n",
       "      <th>mean</th>\n",
       "      <td>4673.237616</td>\n",
       "      <td>58812.687151</td>\n",
       "      <td>3.908007</td>\n",
       "      <td>43.478585</td>\n",
       "      <td>83.091650</td>\n",
       "      <td>19.456983</td>\n",
       "      <td>0.639851</td>\n",
       "    </tr>\n",
       "    <tr>\n",
       "      <th>std</th>\n",
       "      <td>3517.893437</td>\n",
       "      <td>37013.726118</td>\n",
       "      <td>0.289069</td>\n",
       "      <td>26.630426</td>\n",
       "      <td>42.227558</td>\n",
       "      <td>11.397281</td>\n",
       "      <td>0.480133</td>\n",
       "    </tr>\n",
       "    <tr>\n",
       "      <th>min</th>\n",
       "      <td>4.000000</td>\n",
       "      <td>10100.000000</td>\n",
       "      <td>3.000000</td>\n",
       "      <td>0.000000</td>\n",
       "      <td>12.000000</td>\n",
       "      <td>0.000000</td>\n",
       "      <td>0.000000</td>\n",
       "    </tr>\n",
       "    <tr>\n",
       "      <th>25%</th>\n",
       "      <td>1310.000000</td>\n",
       "      <td>22000.000000</td>\n",
       "      <td>4.000000</td>\n",
       "      <td>21.000000</td>\n",
       "      <td>49.000000</td>\n",
       "      <td>9.000000</td>\n",
       "      <td>0.000000</td>\n",
       "    </tr>\n",
       "    <tr>\n",
       "      <th>50%</th>\n",
       "      <td>4666.000000</td>\n",
       "      <td>52800.000000</td>\n",
       "      <td>4.000000</td>\n",
       "      <td>42.000000</td>\n",
       "      <td>73.650000</td>\n",
       "      <td>19.000000</td>\n",
       "      <td>1.000000</td>\n",
       "    </tr>\n",
       "    <tr>\n",
       "      <th>75%</th>\n",
       "      <td>7651.000000</td>\n",
       "      <td>91000.000000</td>\n",
       "      <td>4.000000</td>\n",
       "      <td>67.000000</td>\n",
       "      <td>129.820000</td>\n",
       "      <td>28.000000</td>\n",
       "      <td>1.000000</td>\n",
       "    </tr>\n",
       "    <tr>\n",
       "      <th>max</th>\n",
       "      <td>10779.000000</td>\n",
       "      <td>123199.000000</td>\n",
       "      <td>4.000000</td>\n",
       "      <td>88.000000</td>\n",
       "      <td>149.000000</td>\n",
       "      <td>39.000000</td>\n",
       "      <td>1.000000</td>\n",
       "    </tr>\n",
       "  </tbody>\n",
       "</table>\n",
       "</div>"
      ],
      "text/plain": [
       "             userId      timestamp  helpfulness      item_id   item_price  \\\n",
       "count   2685.000000    2685.000000  2685.000000  2685.000000  2685.000000   \n",
       "mean    4673.237616   58812.687151     3.908007    43.478585    83.091650   \n",
       "std     3517.893437   37013.726118     0.289069    26.630426    42.227558   \n",
       "min        4.000000   10100.000000     3.000000     0.000000    12.000000   \n",
       "25%     1310.000000   22000.000000     4.000000    21.000000    49.000000   \n",
       "50%     4666.000000   52800.000000     4.000000    42.000000    73.650000   \n",
       "75%     7651.000000   91000.000000     4.000000    67.000000   129.820000   \n",
       "max    10779.000000  123199.000000     4.000000    88.000000   149.000000   \n",
       "\n",
       "         user_city       rating  \n",
       "count  2685.000000  2685.000000  \n",
       "mean     19.456983     0.639851  \n",
       "std      11.397281     0.480133  \n",
       "min       0.000000     0.000000  \n",
       "25%       9.000000     0.000000  \n",
       "50%      19.000000     1.000000  \n",
       "75%      28.000000     1.000000  \n",
       "max      39.000000     1.000000  "
      ]
     },
     "execution_count": 86,
     "metadata": {},
     "output_type": "execute_result"
    }
   ],
   "source": [
    "df.describe()"
   ]
  },
  {
   "cell_type": "code",
   "execution_count": 87,
   "id": "323a414b",
   "metadata": {},
   "outputs": [
    {
     "data": {
      "text/plain": [
       "(2685, 11)"
      ]
     },
     "execution_count": 87,
     "metadata": {},
     "output_type": "execute_result"
    }
   ],
   "source": [
    "df.shape"
   ]
  },
  {
   "cell_type": "markdown",
   "id": "4445b77d",
   "metadata": {},
   "source": [
    "# Cleaning the Data"
   ]
  },
  {
   "cell_type": "markdown",
   "id": "7920a58a",
   "metadata": {},
   "source": [
    "First we should check if there is any abnormal instances or missing values.\n",
    "In order to find out if there is abnormal instances, we can use box plots."
   ]
  },
  {
   "cell_type": "code",
   "execution_count": 88,
   "id": "da27e294",
   "metadata": {},
   "outputs": [
    {
     "data": {
      "text/plain": [
       "(array([1, 2, 3, 4, 5, 6, 7]),\n",
       " [Text(1, 0, 'userId'),\n",
       "  Text(2, 0, 'timestamp'),\n",
       "  Text(3, 0, 'helpfulness'),\n",
       "  Text(4, 0, 'item_id'),\n",
       "  Text(5, 0, 'item_price'),\n",
       "  Text(6, 0, 'user_city'),\n",
       "  Text(7, 0, 'rating')])"
      ]
     },
     "execution_count": 88,
     "metadata": {},
     "output_type": "execute_result"
    },
    {
     "data": {
      "image/png": "[encoded data removed]",
      "text/plain": [
       "<Figure size 640x480 with 1 Axes>"
      ]
     },
     "metadata": {},
     "output_type": "display_data"
    }
   ],
   "source": [
    "df.boxplot()\n",
    "plt.title(\"Box Plots for all the columns\")\n",
    "plt.xticks(rotation=45)"
   ]
  },
  {
   "cell_type": "markdown",
   "id": "9ff1ce95",
   "metadata": {},
   "source": [
    "As we can see, helpfulness has outliers that we should remove them"
   ]
  },
  {
   "cell_type": "code",
   "execution_count": 89,
   "id": "01adbca1",
   "metadata": {},
   "outputs": [
    {
     "data": {
      "text/plain": [
       "(array([1]), [Text(1, 0, 'helpfulness')])"
      ]
     },
     "execution_count": 89,
     "metadata": {},
     "output_type": "execute_result"
    },
    {
     "data": {
      "image/png": "[encoded data removed]",
      "text/plain": [
       "<Figure size 640x480 with 1 Axes>"
      ]
     },
     "metadata": {},
     "output_type": "display_data"
    }
   ],
   "source": [
    "columns = ['helpfulness']\n",
    "df[columns].boxplot()\n",
    "plt.title(\"Box Plots for helpfulness\")\n",
    "plt.xticks(rotation=45)"
   ]
  },
  {
   "cell_type": "markdown",
   "id": "b1f78028",
   "metadata": {},
   "source": [
    "so any helpfulness value that is lower than 4 must be removed."
   ]
  },
  {
   "cell_type": "code",
   "execution_count": 90,
   "id": "462b82e0",
   "metadata": {},
   "outputs": [],
   "source": [
    "cleaned_df = df[df['helpfulness'] == 4]"
   ]
  },
  {
   "cell_type": "markdown",
   "id": "f99447a3",
   "metadata": {},
   "source": [
    "# Task 2"
   ]
  },
  {
   "cell_type": "markdown",
   "id": "590e0bb0",
   "metadata": {},
   "source": [
    "**Convert object features into digit features by using an encoder.**"
   ]
  },
  {
   "cell_type": "markdown",
   "id": "2ba7dcde",
   "metadata": {},
   "source": [
    "In this task we should convert review, item, gender and category into digits."
   ]
  },
  {
   "cell_type": "code",
   "execution_count": 91,
   "id": "718e6568",
   "metadata": {},
   "outputs": [],
   "source": [
    "enc = OrdinalEncoder()\n",
    "df_new = cleaned_df.copy()\n",
    "df_new[['review', 'category', 'gender','item']] = enc.fit_transform(df_new[['review', 'category', 'gender','item']])"
   ]
  },
  {
   "cell_type": "markdown",
   "id": "3290f2e9",
   "metadata": {},
   "source": [
    "# Task 3"
   ]
  },
  {
   "cell_type": "markdown",
   "id": "270e74ff",
   "metadata": {},
   "source": [
    "**Study the correlation between these features.**"
   ]
  },
  {
   "cell_type": "code",
   "execution_count": 92,
   "id": "c80068d8",
   "metadata": {},
   "outputs": [
    {
     "data": {
      "text/html": [
       "<div>\n",
       "<style scoped>\n",
       "    .dataframe tbody tr th:only-of-type {\n",
       "        vertical-align: middle;\n",
       "    }\n",
       "\n",
       "    .dataframe tbody tr th {\n",
       "        vertical-align: top;\n",
       "    }\n",
       "\n",
       "    .dataframe thead th {\n",
       "        text-align: right;\n",
       "    }\n",
       "</style>\n",
       "<table border=\"1\" class=\"dataframe\">\n",
       "  <thead>\n",
       "    <tr style=\"text-align: right;\">\n",
       "      <th></th>\n",
       "      <th>helpfulness</th>\n",
       "      <th>gender</th>\n",
       "      <th>category</th>\n",
       "      <th>review</th>\n",
       "      <th>rating</th>\n",
       "      <th>timestamp</th>\n",
       "      <th>item_id</th>\n",
       "      <th>item_price</th>\n",
       "      <th>user_city</th>\n",
       "      <th>userId</th>\n",
       "    </tr>\n",
       "  </thead>\n",
       "  <tbody>\n",
       "    <tr>\n",
       "      <th>helpfulness</th>\n",
       "      <td>NaN</td>\n",
       "      <td>NaN</td>\n",
       "      <td>NaN</td>\n",
       "      <td>NaN</td>\n",
       "      <td>NaN</td>\n",
       "      <td>NaN</td>\n",
       "      <td>NaN</td>\n",
       "      <td>NaN</td>\n",
       "      <td>NaN</td>\n",
       "      <td>NaN</td>\n",
       "    </tr>\n",
       "    <tr>\n",
       "      <th>gender</th>\n",
       "      <td>NaN</td>\n",
       "      <td>1.000000</td>\n",
       "      <td>0.022965</td>\n",
       "      <td>-0.036737</td>\n",
       "      <td>-0.019109</td>\n",
       "      <td>-0.005701</td>\n",
       "      <td>0.000703</td>\n",
       "      <td>-0.051869</td>\n",
       "      <td>-0.068108</td>\n",
       "      <td>-0.038536</td>\n",
       "    </tr>\n",
       "    <tr>\n",
       "      <th>category</th>\n",
       "      <td>NaN</td>\n",
       "      <td>0.022965</td>\n",
       "      <td>1.000000</td>\n",
       "      <td>0.011270</td>\n",
       "      <td>-0.146022</td>\n",
       "      <td>0.011962</td>\n",
       "      <td>-0.048688</td>\n",
       "      <td>-0.111538</td>\n",
       "      <td>-0.001592</td>\n",
       "      <td>-0.054610</td>\n",
       "    </tr>\n",
       "    <tr>\n",
       "      <th>review</th>\n",
       "      <td>NaN</td>\n",
       "      <td>-0.036737</td>\n",
       "      <td>0.011270</td>\n",
       "      <td>1.000000</td>\n",
       "      <td>-0.037373</td>\n",
       "      <td>-0.006058</td>\n",
       "      <td>0.173589</td>\n",
       "      <td>-0.039548</td>\n",
       "      <td>0.049058</td>\n",
       "      <td>0.006841</td>\n",
       "    </tr>\n",
       "    <tr>\n",
       "      <th>rating</th>\n",
       "      <td>NaN</td>\n",
       "      <td>-0.019109</td>\n",
       "      <td>-0.146022</td>\n",
       "      <td>-0.037373</td>\n",
       "      <td>1.000000</td>\n",
       "      <td>0.001893</td>\n",
       "      <td>0.057821</td>\n",
       "      <td>0.012540</td>\n",
       "      <td>-0.023899</td>\n",
       "      <td>0.070893</td>\n",
       "    </tr>\n",
       "    <tr>\n",
       "      <th>timestamp</th>\n",
       "      <td>NaN</td>\n",
       "      <td>-0.005701</td>\n",
       "      <td>0.011962</td>\n",
       "      <td>-0.006058</td>\n",
       "      <td>0.001893</td>\n",
       "      <td>1.000000</td>\n",
       "      <td>-0.003594</td>\n",
       "      <td>0.020206</td>\n",
       "      <td>-0.011367</td>\n",
       "      <td>-0.070805</td>\n",
       "    </tr>\n",
       "    <tr>\n",
       "      <th>item_id</th>\n",
       "      <td>NaN</td>\n",
       "      <td>0.000703</td>\n",
       "      <td>-0.048688</td>\n",
       "      <td>0.173589</td>\n",
       "      <td>0.057821</td>\n",
       "      <td>-0.003594</td>\n",
       "      <td>1.000000</td>\n",
       "      <td>-0.062491</td>\n",
       "      <td>-0.001383</td>\n",
       "      <td>-0.012764</td>\n",
       "    </tr>\n",
       "    <tr>\n",
       "      <th>item_price</th>\n",
       "      <td>NaN</td>\n",
       "      <td>-0.051869</td>\n",
       "      <td>-0.111538</td>\n",
       "      <td>-0.039548</td>\n",
       "      <td>0.012540</td>\n",
       "      <td>0.020206</td>\n",
       "      <td>-0.062491</td>\n",
       "      <td>1.000000</td>\n",
       "      <td>-0.025975</td>\n",
       "      <td>0.022551</td>\n",
       "    </tr>\n",
       "    <tr>\n",
       "      <th>user_city</th>\n",
       "      <td>NaN</td>\n",
       "      <td>-0.068108</td>\n",
       "      <td>-0.001592</td>\n",
       "      <td>0.049058</td>\n",
       "      <td>-0.023899</td>\n",
       "      <td>-0.011367</td>\n",
       "      <td>-0.001383</td>\n",
       "      <td>-0.025975</td>\n",
       "      <td>1.000000</td>\n",
       "      <td>-0.058863</td>\n",
       "    </tr>\n",
       "    <tr>\n",
       "      <th>userId</th>\n",
       "      <td>NaN</td>\n",
       "      <td>-0.038536</td>\n",
       "      <td>-0.054610</td>\n",
       "      <td>0.006841</td>\n",
       "      <td>0.070893</td>\n",
       "      <td>-0.070805</td>\n",
       "      <td>-0.012764</td>\n",
       "      <td>0.022551</td>\n",
       "      <td>-0.058863</td>\n",
       "      <td>1.000000</td>\n",
       "    </tr>\n",
       "  </tbody>\n",
       "</table>\n",
       "</div>"
      ],
      "text/plain": [
       "             helpfulness    gender  category    review    rating  timestamp  \\\n",
       "helpfulness          NaN       NaN       NaN       NaN       NaN        NaN   \n",
       "gender               NaN  1.000000  0.022965 -0.036737 -0.019109  -0.005701   \n",
       "category             NaN  0.022965  1.000000  0.011270 -0.146022   0.011962   \n",
       "review               NaN -0.036737  0.011270  1.000000 -0.037373  -0.006058   \n",
       "rating               NaN -0.019109 -0.146022 -0.037373  1.000000   0.001893   \n",
       "timestamp            NaN -0.005701  0.011962 -0.006058  0.001893   1.000000   \n",
       "item_id              NaN  0.000703 -0.048688  0.173589  0.057821  -0.003594   \n",
       "item_price           NaN -0.051869 -0.111538 -0.039548  0.012540   0.020206   \n",
       "user_city            NaN -0.068108 -0.001592  0.049058 -0.023899  -0.011367   \n",
       "userId               NaN -0.038536 -0.054610  0.006841  0.070893  -0.070805   \n",
       "\n",
       "              item_id  item_price  user_city    userId  \n",
       "helpfulness       NaN         NaN        NaN       NaN  \n",
       "gender       0.000703   -0.051869  -0.068108 -0.038536  \n",
       "category    -0.048688   -0.111538  -0.001592 -0.054610  \n",
       "review       0.173589   -0.039548   0.049058  0.006841  \n",
       "rating       0.057821    0.012540  -0.023899  0.070893  \n",
       "timestamp   -0.003594    0.020206  -0.011367 -0.070805  \n",
       "item_id      1.000000   -0.062491  -0.001383 -0.012764  \n",
       "item_price  -0.062491    1.000000  -0.025975  0.022551  \n",
       "user_city   -0.001383   -0.025975   1.000000 -0.058863  \n",
       "userId      -0.012764    0.022551  -0.058863  1.000000  "
      ]
     },
     "execution_count": 92,
     "metadata": {},
     "output_type": "execute_result"
    }
   ],
   "source": [
    "df_new[['helpfulness','gender','category','review','rating','timestamp','item_id','item_price','user_city','userId']].corr()"
   ]
  },
  {
   "cell_type": "markdown",
   "id": "a664e36b",
   "metadata": {},
   "source": [
    "The correlation of helpfulness with other columns is NaN, because it is a constant value for all the rows."
   ]
  },
  {
   "cell_type": "markdown",
   "id": "1ac76891",
   "metadata": {},
   "source": [
    "# Task 4"
   ]
  },
  {
   "cell_type": "markdown",
   "id": "e1903c3b",
   "metadata": {},
   "source": [
    "**Split the dataset and train a logistic regression model to predict 'rating' based on other features. Evaluate the accuracy of your model.**"
   ]
  },
  {
   "cell_type": "markdown",
   "id": "282ded1b",
   "metadata": {},
   "source": [
    "**Spliting the dataset**"
   ]
  },
  {
   "cell_type": "code",
   "execution_count": 93,
   "id": "95dc58a5",
   "metadata": {},
   "outputs": [],
   "source": [
    "train, test = train_test_split(df_new, test_size=0.2, random_state=42)\n",
    "y_train = train['rating']\n",
    "x_train = train[['category','userId']]\n",
    "y_test = test['rating']\n",
    "x_test = test[['category','userId']]"
   ]
  },
  {
   "cell_type": "markdown",
   "id": "3835f03e",
   "metadata": {},
   "source": [
    "Category and userId are chosen because they are the most correlated features with rating."
   ]
  },
  {
   "cell_type": "markdown",
   "id": "08addada",
   "metadata": {},
   "source": [
    "**Training a logistic regression model**"
   ]
  },
  {
   "cell_type": "code",
   "execution_count": 94,
   "id": "89f4da52",
   "metadata": {},
   "outputs": [],
   "source": [
    "logreg = LogisticRegression()\n",
    "logreg.fit(x_train, y_train)\n",
    "prediction = logreg.predict(x_test)"
   ]
  },
  {
   "cell_type": "markdown",
   "id": "1bacf31b",
   "metadata": {},
   "source": [
    "**Evaluating the accuracy of our model**"
   ]
  },
  {
   "cell_type": "code",
   "execution_count": 95,
   "id": "be913e9a",
   "metadata": {},
   "outputs": [
    {
     "name": "stdout",
     "output_type": "stream",
     "text": [
      "Accuracy Score: 0.6536885245901639\n"
     ]
    }
   ],
   "source": [
    "acc = accuracy_score(y_test, prediction)\n",
    "print(f'Accuracy Score: {acc}')"
   ]
  },
  {
   "cell_type": "markdown",
   "id": "186d9708",
   "metadata": {},
   "source": [
    "The accuracy of our model is near to 0.5 that suggests that our model is not performing well."
   ]
  },
  {
   "cell_type": "markdown",
   "id": "b047d1d8",
   "metadata": {},
   "source": [
    "# Task 5"
   ]
  },
  {
   "cell_type": "markdown",
   "id": "ef0cf0c4",
   "metadata": {},
   "source": [
    "**Split the dataset and train a KNN model to predict 'rating' based on other features. You can set K with an ad-hoc manner in this step. Evaluate the accuracy of your model.**"
   ]
  },
  {
   "cell_type": "code",
   "execution_count": 96,
   "id": "1de3f8ff",
   "metadata": {},
   "outputs": [
    {
     "name": "stdout",
     "output_type": "stream",
     "text": [
      "Accuracy Score: 0.5983606557377049\n"
     ]
    }
   ],
   "source": [
    "import warnings\n",
    "\n",
    "with warnings.catch_warnings():\n",
    "    warnings.filterwarnings(\"ignore\", category=FutureWarning)    \n",
    "    knn = KNeighborsClassifier(n_neighbors=3)\n",
    "    knn.fit(x_train, y_train)\n",
    "    prediction = knn.predict(x_test)\n",
    "    acc = accuracy_score(y_test, prediction)\n",
    "    print(f'Accuracy Score: {acc}')"
   ]
  },
  {
   "cell_type": "markdown",
   "id": "de3cfa1e",
   "metadata": {},
   "source": [
    "# Task 6 "
   ]
  },
  {
   "cell_type": "markdown",
   "id": "9c3314a0",
   "metadata": {},
   "source": [
    "**Tune the hyper-parameter K in KNN to see how it influences the prediction performance**"
   ]
  },
  {
   "cell_type": "markdown",
   "id": "0c36253f",
   "metadata": {},
   "source": [
    "**Searching for the best Hyper-parameter K in KNN**"
   ]
  },
  {
   "cell_type": "code",
   "execution_count": 97,
   "id": "7f6d89aa",
   "metadata": {},
   "outputs": [
    {
     "name": "stdout",
     "output_type": "stream",
     "text": [
      "Best Hyperparameters: 77\n"
     ]
    }
   ],
   "source": [
    "import warnings\n",
    "\n",
    "with warnings.catch_warnings():\n",
    "    warnings.filterwarnings(\"ignore\", category=FutureWarning)\n",
    "    param_grid = {'n_neighbors': list(range(1,100))}\n",
    "    grid_search = GridSearchCV(KNeighborsClassifier(), param_grid, cv=5)\n",
    "    grid_search.fit(x_train, y_train)\n",
    "    best_hp = grid_search.best_params_['n_neighbors']\n",
    "    print(f'Best Hyperparameters: {best_hp}')"
   ]
  },
  {
   "cell_type": "markdown",
   "id": "2b7b55ab",
   "metadata": {},
   "source": [
    "**Training a Model with the Best hyper-parameter K in KNN**"
   ]
  },
  {
   "cell_type": "code",
   "execution_count": 98,
   "id": "ad4ccb03",
   "metadata": {},
   "outputs": [
    {
     "name": "stdout",
     "output_type": "stream",
     "text": [
      "Best Accuracy: 0.6495901639344263\n"
     ]
    }
   ],
   "source": [
    " import warnings\n",
    "\n",
    "with warnings.catch_warnings():\n",
    "    warnings.filterwarnings(\"ignore\", category=FutureWarning)   \n",
    "    best_model = KNeighborsClassifier(best_hp)\n",
    "    best_model.fit(x_train, y_train)\n",
    "    prediction = best_model.predict(x_test)\n",
    "    acc = accuracy_score(y_test, prediction)\n",
    "    print(f'Best Accuracy: {acc}')"
   ]
  },
  {
   "cell_type": "markdown",
   "id": "ee3e1ee3",
   "metadata": {},
   "source": [
    "Despite finding the best hyper-parameter, our model's accuracy score is only around 0.5, indicating poor performance, even though it did improve slightly."
   ]
  },
  {
   "cell_type": "markdown",
   "id": "7302b7ab",
   "metadata": {},
   "source": [
    "**As we can see, with the best hyper-parameter K in KNN, the performance of the two models is almost the same.**"
   ]
  }
 ],
 "metadata": {
  "colab": {
   "provenance": []
  },
  "kernelspec": {
   "display_name": "Python 3 (ipykernel)",
   "language": "python",
   "name": "python3"
  },
  "language_info": {
   "codemirror_mode": {
    "name": "ipython",
    "version": 3
   },
   "file_extension": ".py",
   "mimetype": "text/x-python",
   "name": "python",
   "nbconvert_exporter": "python",
   "pygments_lexer": "ipython3",
   "version": "3.9.13"
  }
 },
 "nbformat": 4,
 "nbformat_minor": 5
}
